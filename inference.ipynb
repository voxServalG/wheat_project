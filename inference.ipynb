{
 "cells": [
  {
   "cell_type": "code",
   "execution_count": 11,
   "id": "10254d9a-21e8-4a9d-b7a8-8aeabcb9827d",
   "metadata": {},
   "outputs": [],
   "source": [
    "import torch\n",
    "from torchvision import transforms\n",
    "from PIL import Image\n",
    "from model.edgevit import *\n",
    "\n",
    "device = 'cuda' if torch.cuda.is_available() else 'cpu'\n",
    "\n",
    "# 定义加载模型的函数  \n",
    "def load_model(model_path):  \n",
    "    # 加载模型  \n",
    "    model = EdgeViT_S().to(device)  # 替换为你的模型类\n",
    "    checkpoint = torch.load(model_path, map_location=torch.device(device))\n",
    "    model.load_state_dict(checkpoint['model_state_dict'])  # 加载模型权重  \n",
    "    model.eval()  # 设置模型为评估模式  \n",
    "    return model \n",
    "\n",
    "# 定义推理函数  \n",
    "def inference(model, image_path):  \n",
    "    # 图像预处理  \n",
    "    mytransform = transforms.Compose([\n",
    "        transforms.Resize((256, 256)),\n",
    "        transforms.ToTensor()\n",
    "    ])\n",
    "    image = Image.open(image_path).convert('RGB')  \n",
    "    input_tensor = mytransform(image).to(device)\n",
    "    input_batch = input_tensor.unsqueeze(0) # create a mini-batch as expected by the model  \n",
    "  \n",
    "    # 推理  \n",
    "    with torch.no_grad():  \n",
    "        output = model(input_batch)  \n",
    "    return output"
   ]
  },
  {
   "cell_type": "code",
   "execution_count": 15,
   "id": "2e6c7d61-aee1-4f9e-8c35-8bc206046247",
   "metadata": {},
   "outputs": [
    {
     "data": {
      "text/plain": [
       "tensor([[165.4895]], device='cuda:0')"
      ]
     },
     "execution_count": 15,
     "metadata": {},
     "output_type": "execute_result"
    }
   ],
   "source": [
    "model = load_model(\"./saved_weights/edgevits/model_epoch_320.pth\")\n",
    "image = \"./datasets/test/photos/DSC_0743.JPG\"\n",
    "a = inference(model, image)\n",
    "a"
   ]
  }
 ],
 "metadata": {
  "kernelspec": {
   "display_name": "Python 3 (ipykernel)",
   "language": "python",
   "name": "python3"
  },
  "language_info": {
   "codemirror_mode": {
    "name": "ipython",
    "version": 3
   },
   "file_extension": ".py",
   "mimetype": "text/x-python",
   "name": "python",
   "nbconvert_exporter": "python",
   "pygments_lexer": "ipython3",
   "version": "3.10.8"
  }
 },
 "nbformat": 4,
 "nbformat_minor": 5
}
