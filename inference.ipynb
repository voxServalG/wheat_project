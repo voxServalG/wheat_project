{
 "cells": [
  {
   "cell_type": "code",
   "execution_count": 3,
   "id": "10254d9a-21e8-4a9d-b7a8-8aeabcb9827d",
   "metadata": {},
   "outputs": [],
   "source": [
    "import torch\n",
    "from torchvision import transforms\n",
    "from PIL import Image\n",
    "from model.edgevit import *\n",
    "from model.mobilenetv2 import *\n",
    "import pandas as pd\n",
    "import os\n",
    "import numpy as np\n",
    "import re\n",
    "\n",
    "device = 'cuda' if torch.cuda.is_available() else 'cpu'\n",
    "\n",
    "# 定义加载模型的函数  \n",
    "def load_model(model_path):  \n",
    "    # 加载模型  \n",
    "    model = MobileNetV2().to(device)  # 替换为你的模型类\n",
    "    checkpoint = torch.load(model_path, map_location=torch.device(device))\n",
    "    model.load_state_dict(checkpoint['model_state_dict'])  # 加载模型权重  \n",
    "    model.eval()  # 设置模型为评估模式  \n",
    "    return model \n",
    "\n",
    "# 定义推理函数  \n",
    "def inference(model, image_path):  \n",
    "    # 图像预处理  \n",
    "    mytransform = transforms.Compose([\n",
    "        transforms.Resize((256, 256)),\n",
    "        transforms.ToTensor(),\n",
    "        transforms.Normalize(mean=(0.485, 0.456,0.406), std=(0.229, 0.224, 0.225))\n",
    "    ])\n",
    "    image = Image.open(image_path)\n",
    "    input_tensor = mytransform(image).to(device)\n",
    "    input_batch = input_tensor.unsqueeze(0) # create a mini-batch as expected by the model  \n",
    "  \n",
    "    # 推理  \n",
    "    with torch.no_grad():  \n",
    "        output = model(input_batch)  \n",
    "    return output\n",
    "\n",
    "\n",
    "def get_true_tiller(img_filename):\n",
    "        csv_path = \"datasets/test/test_2.csv\"\n",
    "        df = pd.read_csv(csv_path)\n",
    "        column_name = df.applymap(lambda x: x == img_filename).any().idxmax()   #from elemant content search its column name\n",
    "\n",
    "\n",
    "\n",
    "        if hasattr(re.search(r'_(.*?)_', column_name), 'group'):  \n",
    "            # 如果属性存在，则安全地访问它\n",
    "            # print(f\"{img} OKOKOKOKOKOKOK\")\n",
    "            day_number = re.search(r'_(.*?)_', column_name).group(1) \n",
    "            # 接下来使用value进行其他操作...  \n",
    "        else:  \n",
    "            # 如果属性不存在，则处理异常或记录错误  \n",
    "            print(f\"\\\"{img}\\\",\")  \n",
    "            # 可以选择抛出异常、记录日志或进行其他错误处理\n",
    "        # day_number = re.search(r'_(.*?)_', column_name).group(1) # from column name get its day number(to find if useful)\n",
    "\n",
    "\n",
    "#######################################################\n",
    "        row_indice = np.where(df[column_name] == img_filename)[0][0] # from column name get its row indice\n",
    "\n",
    "        # category = df.species[row_indice]\n",
    "        tiller_column_name = \"day_\" + day_number\n",
    "        tiller_num = df[tiller_column_name][row_indice]\n",
    "        return tiller_num\n",
    "\n",
    "def show_tiller_difference(img_filename):\n",
    "    model = load_model(\"./saved_weights/mobilenet/model_epoch_30.pth\")\n",
    "    image = os.path.join(\"datasets/test/photos\", img_filename)\n",
    "    a = inference(model, image).item()\n",
    "    b = get_true_tiller(img_filename)\n",
    "    print(\"True tiller: {}, Inference tiller: {}, diff: {}\".format(b,a, a-b))"
   ]
  },
  {
   "cell_type": "code",
   "execution_count": 4,
   "id": "2e6c7d61-aee1-4f9e-8c35-8bc206046247",
   "metadata": {},
   "outputs": [
    {
     "name": "stderr",
     "output_type": "stream",
     "text": [
      "/tmp/ipykernel_247560/196580401.py:43: FutureWarning: DataFrame.applymap has been deprecated. Use DataFrame.map instead.\n",
      "  column_name = df.applymap(lambda x: x == img_filename).any().idxmax()   #from elemant content search its column name\n"
     ]
    },
    {
     "name": "stdout",
     "output_type": "stream",
     "text": [
      "True tiller: 43, Inference tiller: 159.650634765625, diff: 116.650634765625\n"
     ]
    },
    {
     "name": "stderr",
     "output_type": "stream",
     "text": [
      "/tmp/ipykernel_247560/196580401.py:43: FutureWarning: DataFrame.applymap has been deprecated. Use DataFrame.map instead.\n",
      "  column_name = df.applymap(lambda x: x == img_filename).any().idxmax()   #from elemant content search its column name\n"
     ]
    },
    {
     "name": "stdout",
     "output_type": "stream",
     "text": [
      "True tiller: 79, Inference tiller: 158.41722106933594, diff: 79.41722106933594\n"
     ]
    },
    {
     "name": "stderr",
     "output_type": "stream",
     "text": [
      "/tmp/ipykernel_247560/196580401.py:43: FutureWarning: DataFrame.applymap has been deprecated. Use DataFrame.map instead.\n",
      "  column_name = df.applymap(lambda x: x == img_filename).any().idxmax()   #from elemant content search its column name\n"
     ]
    },
    {
     "name": "stdout",
     "output_type": "stream",
     "text": [
      "True tiller: 85, Inference tiller: 159.83297729492188, diff: 74.83297729492188\n"
     ]
    },
    {
     "name": "stderr",
     "output_type": "stream",
     "text": [
      "/tmp/ipykernel_247560/196580401.py:43: FutureWarning: DataFrame.applymap has been deprecated. Use DataFrame.map instead.\n",
      "  column_name = df.applymap(lambda x: x == img_filename).any().idxmax()   #from elemant content search its column name\n"
     ]
    },
    {
     "name": "stdout",
     "output_type": "stream",
     "text": [
      "True tiller: 96, Inference tiller: 160.7310791015625, diff: 64.7310791015625\n"
     ]
    },
    {
     "name": "stderr",
     "output_type": "stream",
     "text": [
      "/tmp/ipykernel_247560/196580401.py:43: FutureWarning: DataFrame.applymap has been deprecated. Use DataFrame.map instead.\n",
      "  column_name = df.applymap(lambda x: x == img_filename).any().idxmax()   #from elemant content search its column name\n"
     ]
    },
    {
     "name": "stdout",
     "output_type": "stream",
     "text": [
      "True tiller: 75, Inference tiller: 158.62905883789062, diff: 83.62905883789062\n"
     ]
    },
    {
     "name": "stderr",
     "output_type": "stream",
     "text": [
      "/tmp/ipykernel_247560/196580401.py:43: FutureWarning: DataFrame.applymap has been deprecated. Use DataFrame.map instead.\n",
      "  column_name = df.applymap(lambda x: x == img_filename).any().idxmax()   #from elemant content search its column name\n"
     ]
    },
    {
     "name": "stdout",
     "output_type": "stream",
     "text": [
      "True tiller: 73, Inference tiller: 159.48849487304688, diff: 86.48849487304688\n",
      "True tiller: 358, Inference tiller: 160.64077758789062, diff: -197.35922241210938\n"
     ]
    },
    {
     "name": "stderr",
     "output_type": "stream",
     "text": [
      "/tmp/ipykernel_247560/196580401.py:43: FutureWarning: DataFrame.applymap has been deprecated. Use DataFrame.map instead.\n",
      "  column_name = df.applymap(lambda x: x == img_filename).any().idxmax()   #from elemant content search its column name\n"
     ]
    }
   ],
   "source": [
    "\n",
    "img_filenames = [\"IMG_3343.JPG\", \"IMG_3502.JPG\", \"IMG_3503.JPG\", \"IMG_3505.JPG\", \"IMG_3507.JPG\", \"IMG_3508.JPG\",\"DSC_0687.JPG\"]\n",
    "for img_filename in img_filenames:\n",
    "    show_tiller_difference(img_filename)\n",
    "\n"
   ]
  },
  {
   "cell_type": "code",
   "execution_count": 35,
   "id": "806e8113-3058-49b8-9ef5-f8e50d45d41b",
   "metadata": {},
   "outputs": [
    {
     "data": {
      "text/plain": [
       "tensor(287681.4688, device='cuda:0', grad_fn=<AddBackward0>)"
      ]
     },
     "execution_count": 35,
     "metadata": {},
     "output_type": "execute_result"
    }
   ],
   "source": [
    "l1_reg = 0\n",
    "model = load_model(\"./saved_weights/edgevits/model_epoch_40_onehot.pth\")\n",
    "for param in model.parameters():  \n",
    "        l1_reg += torch.norm(param, 1)  \n",
    "l1_reg"
   ]
  },
  {
   "cell_type": "code",
   "execution_count": null,
   "id": "74042a1a-7a3c-498a-9e6c-301cb8f1de0b",
   "metadata": {},
   "outputs": [],
   "source": []
  }
 ],
 "metadata": {
  "kernelspec": {
   "display_name": "Python 3 (ipykernel)",
   "language": "python",
   "name": "python3"
  },
  "language_info": {
   "codemirror_mode": {
    "name": "ipython",
    "version": 3
   },
   "file_extension": ".py",
   "mimetype": "text/x-python",
   "name": "python",
   "nbconvert_exporter": "python",
   "pygments_lexer": "ipython3",
   "version": "3.10.8"
  }
 },
 "nbformat": 4,
 "nbformat_minor": 5
}
