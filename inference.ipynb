{
 "cells": [
  {
   "cell_type": "code",
   "execution_count": 104,
   "id": "10254d9a-21e8-4a9d-b7a8-8aeabcb9827d",
   "metadata": {},
   "outputs": [],
   "source": [
    "import torch\n",
    "from torchvision import transforms\n",
    "from PIL import Image\n",
    "from model.edgevit import *\n",
    "from model.mobilenetv2 import *\n",
    "import pandas as pd\n",
    "import os\n",
    "import numpy as np\n",
    "import re\n",
    "\n",
    "device = 'cuda' if torch.cuda.is_available() else 'cpu'\n",
    "\n",
    "# 定义加载模型的函数  \n",
    "def load_model(model_path):  \n",
    "    # 加载模型  \n",
    "    model = MobileNetV2(n_class=18).to(device)  # 替换为你的模型类\n",
    "    checkpoint = torch.load(model_path, map_location=torch.device(device))\n",
    "    model.load_state_dict(checkpoint['model_state_dict'])  # 加载模型权重  \n",
    "    model.eval()  # 设置模型为评估模式  \n",
    "    return model \n",
    "\n",
    "# 定义推理函数  \n",
    "def inference(model, image_path):  \n",
    "    # 图像预处理  \n",
    "    mytransform = transforms.Compose([\n",
    "        transforms.Resize((256, 256)),\n",
    "        transforms.ToTensor(),\n",
    "        transforms.Normalize(mean=(0.485, 0.456,0.406), std=(0.229, 0.224, 0.225))\n",
    "    ])\n",
    "    image = Image.open(image_path)\n",
    "    input_tensor = mytransform(image).to(device)\n",
    "    input_batch = input_tensor.unsqueeze(0) # create a mini-batch as expected by the model  \n",
    "  \n",
    "    # 推理  \n",
    "    with torch.no_grad():  \n",
    "        output = model(input_batch)  \n",
    "    return output\n",
    "\n",
    "\n",
    "def get_true_tiller(img_filename):\n",
    "        csv_path = \"datasets/test/test_2.csv\"\n",
    "        df = pd.read_csv(csv_path)\n",
    "        column_name = df.applymap(lambda x: x == img_filename).any().idxmax()   #from elemant content search its column name\n",
    "\n",
    "\n",
    "\n",
    "        if hasattr(re.search(r'_(.*?)_', column_name), 'group'):  \n",
    "            # 如果属性存在，则安全地访问它\n",
    "            # print(f\"{img} OKOKOKOKOKOKOK\")\n",
    "            day_number = re.search(r'_(.*?)_', column_name).group(1) \n",
    "            # 接下来使用value进行其他操作...  \n",
    "        else:  \n",
    "            # 如果属性不存在，则处理异常或记录错误  \n",
    "            print(f\"\\\"{img}\\\",\")  \n",
    "            # 可以选择抛出异常、记录日志或进行其他错误处理\n",
    "        # day_number = re.search(r'_(.*?)_', column_name).group(1) # from column name get its day number(to find if useful)\n",
    "\n",
    "\n",
    "#######################################################\n",
    "        row_indice = np.where(df[column_name] == img_filename)[0][0] # from column name get its row indice\n",
    "\n",
    "        # category = df.species[row_indice]\n",
    "        tiller_column_name = \"day_\" + day_number\n",
    "        tiller_num = df[tiller_column_name][row_indice]\n",
    "        return tiller_num\n",
    "\n",
    "def show_tiller_difference(img_filename):\n",
    "    model = load_model(\"./saved_weights/mobilenet/model_epoch_210.pth\")\n",
    "    image = os.path.join(\"datasets/test/photos\", img_filename)\n",
    "    a = inference(model, image)\n",
    "    y_hat = a.argmax(axis=1)\n",
    "    y = int(get_true_tiller(img_filename) / 25) \n",
    "    \n",
    "    test = (y_hat == y).type(torch.float).sum().item()\n",
    "    \n",
    "    print(\"True tiller LVL: {}, Inference tiller LVL: {}, diff: {}\".format(y,y_hat, (y-y_hat)[0]))\n",
    "    return test\n",
    "    "
   ]
  },
  {
   "cell_type": "code",
   "execution_count": 105,
   "id": "2e6c7d61-aee1-4f9e-8c35-8bc206046247",
   "metadata": {},
   "outputs": [
    {
     "name": "stderr",
     "output_type": "stream",
     "text": [
      "/tmp/ipykernel_317535/922002870.py:43: FutureWarning: DataFrame.applymap has been deprecated. Use DataFrame.map instead.\n",
      "  column_name = df.applymap(lambda x: x == img_filename).any().idxmax()   #from elemant content search its column name\n"
     ]
    },
    {
     "name": "stdout",
     "output_type": "stream",
     "text": [
      "True tiller LVL: 1, Inference tiller LVL: tensor([1], device='cuda:0'), diff: 0\n",
      "1.0\n"
     ]
    },
    {
     "name": "stderr",
     "output_type": "stream",
     "text": [
      "/tmp/ipykernel_317535/922002870.py:43: FutureWarning: DataFrame.applymap has been deprecated. Use DataFrame.map instead.\n",
      "  column_name = df.applymap(lambda x: x == img_filename).any().idxmax()   #from elemant content search its column name\n"
     ]
    },
    {
     "name": "stdout",
     "output_type": "stream",
     "text": [
      "True tiller LVL: 3, Inference tiller LVL: tensor([3], device='cuda:0'), diff: 0\n",
      "1.0\n"
     ]
    },
    {
     "name": "stderr",
     "output_type": "stream",
     "text": [
      "/tmp/ipykernel_317535/922002870.py:43: FutureWarning: DataFrame.applymap has been deprecated. Use DataFrame.map instead.\n",
      "  column_name = df.applymap(lambda x: x == img_filename).any().idxmax()   #from elemant content search its column name\n"
     ]
    },
    {
     "name": "stdout",
     "output_type": "stream",
     "text": [
      "True tiller LVL: 5, Inference tiller LVL: tensor([4], device='cuda:0'), diff: 1\n",
      "0.0\n"
     ]
    },
    {
     "name": "stderr",
     "output_type": "stream",
     "text": [
      "/tmp/ipykernel_317535/922002870.py:43: FutureWarning: DataFrame.applymap has been deprecated. Use DataFrame.map instead.\n",
      "  column_name = df.applymap(lambda x: x == img_filename).any().idxmax()   #from elemant content search its column name\n"
     ]
    },
    {
     "name": "stdout",
     "output_type": "stream",
     "text": [
      "True tiller LVL: 7, Inference tiller LVL: tensor([7], device='cuda:0'), diff: 0\n",
      "1.0\n"
     ]
    },
    {
     "name": "stderr",
     "output_type": "stream",
     "text": [
      "/tmp/ipykernel_317535/922002870.py:43: FutureWarning: DataFrame.applymap has been deprecated. Use DataFrame.map instead.\n",
      "  column_name = df.applymap(lambda x: x == img_filename).any().idxmax()   #from elemant content search its column name\n"
     ]
    },
    {
     "name": "stdout",
     "output_type": "stream",
     "text": [
      "True tiller LVL: 6, Inference tiller LVL: tensor([7], device='cuda:0'), diff: -1\n",
      "0.0\n"
     ]
    },
    {
     "name": "stderr",
     "output_type": "stream",
     "text": [
      "/tmp/ipykernel_317535/922002870.py:43: FutureWarning: DataFrame.applymap has been deprecated. Use DataFrame.map instead.\n",
      "  column_name = df.applymap(lambda x: x == img_filename).any().idxmax()   #from elemant content search its column name\n"
     ]
    },
    {
     "name": "stdout",
     "output_type": "stream",
     "text": [
      "True tiller LVL: 10, Inference tiller LVL: tensor([11], device='cuda:0'), diff: -1\n",
      "0.0\n",
      "True tiller LVL: 14, Inference tiller LVL: tensor([11], device='cuda:0'), diff: 3\n",
      "0.0\n"
     ]
    },
    {
     "name": "stderr",
     "output_type": "stream",
     "text": [
      "/tmp/ipykernel_317535/922002870.py:43: FutureWarning: DataFrame.applymap has been deprecated. Use DataFrame.map instead.\n",
      "  column_name = df.applymap(lambda x: x == img_filename).any().idxmax()   #from elemant content search its column name\n"
     ]
    }
   ],
   "source": [
    "\n",
    "img_filenames = [\"IMG_3343.JPG\", \"IMG_3502.JPG\", \"IMG_3568.JPG\", \"IMG_3682.JPG\", \"IMG_3721.JPG\", \"DSC_0769.JPG\",\"DSC_0687.JPG\"]\n",
    "\n",
    "for img_filename in img_filenames:\n",
    "    res = show_tiller_difference(img_filename)\n",
    "    print(res)"
   ]
  },
  {
   "cell_type": "code",
   "execution_count": 35,
   "id": "806e8113-3058-49b8-9ef5-f8e50d45d41b",
   "metadata": {},
   "outputs": [
    {
     "data": {
      "text/plain": [
       "tensor(287681.4688, device='cuda:0', grad_fn=<AddBackward0>)"
      ]
     },
     "execution_count": 35,
     "metadata": {},
     "output_type": "execute_result"
    }
   ],
   "source": [
    "l1_reg = 0\n",
    "model = load_model(\"./saved_weights/edgevits/model_epoch_40_onehot.pth\")\n",
    "for param in model.parameters():  \n",
    "        l1_reg += torch.norm(param, 1)  \n",
    "l1_reg"
   ]
  },
  {
   "cell_type": "code",
   "execution_count": null,
   "id": "74042a1a-7a3c-498a-9e6c-301cb8f1de0b",
   "metadata": {},
   "outputs": [],
   "source": []
  }
 ],
 "metadata": {
  "kernelspec": {
   "display_name": "Python 3 (ipykernel)",
   "language": "python",
   "name": "python3"
  },
  "language_info": {
   "codemirror_mode": {
    "name": "ipython",
    "version": 3
   },
   "file_extension": ".py",
   "mimetype": "text/x-python",
   "name": "python",
   "nbconvert_exporter": "python",
   "pygments_lexer": "ipython3",
   "version": "3.10.8"
  }
 },
 "nbformat": 4,
 "nbformat_minor": 5
}
