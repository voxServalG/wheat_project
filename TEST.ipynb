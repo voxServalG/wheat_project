{
 "cells": [
  {
   "cell_type": "code",
   "execution_count": 2,
   "metadata": {},
   "outputs": [],
   "source": [
    "import datasets\n",
    "from datasets import MyDataset\n",
    "from torchvision import transforms\n",
    "from torchvision.transforms import ToPILImage\n",
    "from torch.utils.data import DataLoader\n",
    "import torch\n",
    "import numpy as np\n",
    "batch_size = 1\n",
    "shuffle = True\n",
    "num_workers = 2\n",
    "num_epochs = 10\n",
    "from tqdm import tqdm\n",
    "import os\n",
    "from shutil import copyfile\n",
    "\n",
    "mytransform = transforms.Compose([\n",
    "    transforms.Resize((256, 256)),\n",
    "    transforms.ToTensor(),\n",
    "    transforms.Normalize(mean=(0.485, 0.456,0.406), std=(0.229, 0.224, 0.225))\n",
    "])"
   ]
  },
  {
   "cell_type": "code",
   "execution_count": 17,
   "metadata": {},
   "outputs": [
    {
     "data": {
      "text/plain": [
       "tensor(5, dtype=torch.uint8)"
      ]
     },
     "execution_count": 17,
     "metadata": {},
     "output_type": "execute_result"
    }
   ],
   "source": [
    "dataset = datasets.MyDataset(path_dir=\"./datasets/train\", transform=mytransform)\n",
    "image, tiller_level = dataset[0]\n",
    "\n",
    "toPIL = transforms.ToPILImage()\n",
    "\n",
    "a = np.array(tiller_level, dtype='uint8')\n",
    "torch.tensor(a)\n"
   ]
  },
  {
   "cell_type": "code",
   "execution_count": 3,
   "metadata": {},
   "outputs": [
    {
     "name": "stdout",
     "output_type": "stream",
     "text": [
      "tensor([0.])\n"
     ]
    },
    {
     "name": "stderr",
     "output_type": "stream",
     "text": [
      "4806it [21:19,  3.76it/s]\n"
     ]
    }
   ],
   "source": [
    "dataset = MyDataset(path_dir='./datasets/train',\n",
    "                    transform=mytransform)\n",
    "\n",
    "dataloader = DataLoader(dataset=dataset,\n",
    "                        batch_size=batch_size,\n",
    "                        shuffle=shuffle,\n",
    "                        num_workers=num_workers)\n",
    "\n",
    "distribution = torch.zeros((18,1))\n",
    "print(distribution[1])\n",
    "for data in tqdm(enumerate(dataloader)):\n",
    "    _, tiller_level = next(iter(dataloader))\n",
    "    distribution[tiller_level - 1] += 1"
   ]
  },
  {
   "cell_type": "code",
   "execution_count": 74,
   "metadata": {},
   "outputs": [
    {
     "name": "stdout",
     "output_type": "stream",
     "text": [
      "DSC_0705.JPG\n",
      "DSC_0684.JPG\n"
     ]
    }
   ],
   "source": [
    "for filename in list(set(L15)):\n",
    "    print(filename)\n",
    "    file_path = os.path.join(\"./datasets/train/photos\", filename)\n",
    "    new_path = os.path.join(\"./15\", filename)\n",
    "    copyfile(file_path, new_path)"
   ]
  },
  {
   "cell_type": "code",
   "execution_count": 17,
   "metadata": {},
   "outputs": [
    {
     "data": {
      "text/plain": [
       "tensor([[0.3584, 0.1686, 0.1346, 0.1698, 0.3390, 0.2801, 0.3546, 0.5556, 0.8333,\n",
       "         0.3559, 0.5319, 0.5291, 0.5952, 0.6667, 1.5873, 0.5025, 0.7692]])"
      ]
     },
     "execution_count": 17,
     "metadata": {},
     "output_type": "execute_result"
    }
   ],
   "source": [
    "a = 100.0 / distribution[0:-1]\n",
    "a.view(1,17)"
   ]
  },
  {
   "cell_type": "code",
   "execution_count": null,
   "metadata": {},
   "outputs": [],
   "source": []
  }
 ],
 "metadata": {
  "kernelspec": {
   "display_name": "Python 3 (ipykernel)",
   "language": "python",
   "name": "python3"
  },
  "language_info": {
   "codemirror_mode": {
    "name": "ipython",
    "version": 3
   },
   "file_extension": ".py",
   "mimetype": "text/x-python",
   "name": "python",
   "nbconvert_exporter": "python",
   "pygments_lexer": "ipython3",
   "version": "3.10.8"
  }
 },
 "nbformat": 4,
 "nbformat_minor": 4
}
