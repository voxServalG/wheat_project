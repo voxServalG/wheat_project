{
 "cells": [
  {
   "cell_type": "code",
   "execution_count": 6,
   "metadata": {},
   "outputs": [],
   "source": [
    "import datasets\n",
    "from datasets import MyDataset\n",
    "from torchvision import transforms\n",
    "from torchvision.transforms import ToPILImage\n",
    "from torch.utils.data import DataLoader\n",
    "\n",
    "batch_size = 1\n",
    "shuffle = True\n",
    "num_workers = 2\n",
    "num_epochs = 10\n",
    "\n",
    "mytransform = transforms.Compose([\n",
    "    transforms.Resize((256, 256)),\n",
    "    transforms.ToTensor(),\n",
    "    transforms.Normalize(mean=(0.485, 0.456,0.406), std=(0.229, 0.224, 0.225))\n",
    "])"
   ]
  },
  {
   "cell_type": "code",
   "execution_count": 10,
   "metadata": {},
   "outputs": [
    {
     "data": {
      "text/plain": [
       "torch.Size([3, 256, 256])"
      ]
     },
     "execution_count": 10,
     "metadata": {},
     "output_type": "execute_result"
    }
   ],
   "source": [
    "dataset = datasets.MyDataset(path_dir=\"./datasets/train\", transform=mytransform)\n",
    "image,tiller_tensor = dataset[0]\n",
    "\n",
    "toPIL = transforms.ToPILImage()\n",
    "image.shape\n"
   ]
  },
  {
   "cell_type": "code",
   "execution_count": 21,
   "metadata": {},
   "outputs": [
    {
     "name": "stdout",
     "output_type": "stream",
     "text": [
      "tensor([290])\n"
     ]
    },
    {
     "data": {
      "text/plain": [
       "tensor([[[ 0.2967, -0.0116, -0.2684,  ...,  0.5364,  0.6734,  0.6906],\n",
       "         [ 0.1939, -0.0458, -0.2342,  ...,  0.5707,  0.6392,  0.7419],\n",
       "         [ 0.0912, -0.0972, -0.4568,  ...,  0.5022,  0.4508,  0.6734],\n",
       "         ...,\n",
       "         [-0.1314, -1.1075, -0.1999,  ...,  0.8618,  1.1529,  0.6392],\n",
       "         [ 0.4679, -0.4226, -0.0287,  ...,  1.0159,  1.1358,  0.6392],\n",
       "         [ 0.5878,  0.4679,  0.4508,  ...,  0.5193,  0.7248,  0.5536]],\n",
       "\n",
       "        [[ 0.8880,  0.5553,  0.2577,  ...,  0.2577,  0.3803,  0.4153],\n",
       "         [ 0.8004,  0.4853,  0.2927,  ...,  0.2927,  0.3627,  0.4678],\n",
       "         [ 0.6954,  0.4153, -0.0399,  ...,  0.1702,  0.1352,  0.3627],\n",
       "         ...,\n",
       "         [ 0.2227, -1.0728, -0.4776,  ...,  0.6254,  0.9055,  0.4503],\n",
       "         [ 0.8004, -0.2850, -0.2675,  ...,  0.8004,  0.9230,  0.4328],\n",
       "         [ 0.8354,  0.7304,  0.3102,  ...,  0.3277,  0.5553,  0.3627]],\n",
       "\n",
       "        [[ 1.6291,  1.2980,  1.1411,  ..., -0.1487, -0.0092,  0.0605],\n",
       "         [ 1.5594,  1.2282,  1.0888,  ..., -0.0964, -0.0441,  0.1128],\n",
       "         [ 1.4722,  1.0714,  0.5485,  ..., -0.2358, -0.2532, -0.0092],\n",
       "         ...,\n",
       "         [ 0.0779, -1.2467, -0.8807,  ...,  0.2348,  0.5485,  0.1476],\n",
       "         [ 0.6531, -0.4798, -0.6018,  ...,  0.4614,  0.5834,  0.1476],\n",
       "         [ 0.6356,  0.5311, -0.0092,  ...,  0.0431,  0.2522,  0.0953]]])"
      ]
     },
     "execution_count": 21,
     "metadata": {},
     "output_type": "execute_result"
    }
   ],
   "source": [
    "dataset = MyDataset(path_dir='./datasets/train',\n",
    "                    transform=mytransform)\n",
    "\n",
    "dataloader = DataLoader(dataset=dataset,\n",
    "                        batch_size=batch_size,\n",
    "                        shuffle=shuffle,\n",
    "                        num_workers=num_workers)\n",
    "\n",
    "image, n_tiller = next(iter(dataloader))  \n",
    "toPIL = transforms.ToPILImage()\n",
    "\n",
    "a = toPIL(image[0])\n",
    "print(n_tiller)\n",
    "image[0]\n"
   ]
  },
  {
   "cell_type": "code",
   "execution_count": null,
   "metadata": {},
   "outputs": [],
   "source": [
    "l1_reg = 9\n",
    "\n",
    "for param in model.parameters():  \n",
    "        l1_reg += torch.norm(param, 1)  "
   ]
  }
 ],
 "metadata": {
  "kernelspec": {
   "display_name": "Python 3 (ipykernel)",
   "language": "python",
   "name": "python3"
  },
  "language_info": {
   "codemirror_mode": {
    "name": "ipython",
    "version": 3
   },
   "file_extension": ".py",
   "mimetype": "text/x-python",
   "name": "python",
   "nbconvert_exporter": "python",
   "pygments_lexer": "ipython3",
   "version": "3.10.8"
  }
 },
 "nbformat": 4,
 "nbformat_minor": 4
}
